{
 "cells": [
  {
   "cell_type": "markdown",
   "id": "8f0b72f8",
   "metadata": {
    "papermill": {
     "duration": 0.007826,
     "end_time": "2023-01-16T20:33:18.822658",
     "exception": false,
     "start_time": "2023-01-16T20:33:18.814832",
     "status": "completed"
    },
    "tags": []
   },
   "source": [
    "**This notebook is an exercise in the [Python](https://www.kaggle.com/learn/python) course.  You can reference the tutorial at [this link](https://www.kaggle.com/colinmorris/hello-python).**\n",
    "\n",
    "---\n"
   ]
  },
  {
   "cell_type": "markdown",
   "id": "c6f8a956",
   "metadata": {
    "papermill": {
     "duration": 0.006205,
     "end_time": "2023-01-16T20:33:18.835492",
     "exception": false,
     "start_time": "2023-01-16T20:33:18.829287",
     "status": "completed"
    },
    "tags": []
   },
   "source": [
    "Welcome to your first set of Python coding problems.  If this is your first time using Kaggle Notebooks, welcome! \n",
    "\n",
    "Notebooks are composed of blocks (called \"cells\") of text and code. Each of these is editable, though you'll mainly be editing the code cells to answer some questions.\n",
    "\n",
    "To get started, try running the code cell below (by pressing the ► button, or clicking on the cell and pressing ctrl+enter on your keyboard)."
   ]
  },
  {
   "cell_type": "code",
   "execution_count": 1,
   "id": "4ab437d5",
   "metadata": {
    "execution": {
     "iopub.execute_input": "2023-01-16T20:33:18.850928Z",
     "iopub.status.busy": "2023-01-16T20:33:18.849673Z",
     "iopub.status.idle": "2023-01-16T20:33:18.862779Z",
     "shell.execute_reply": "2023-01-16T20:33:18.861081Z"
    },
    "papermill": {
     "duration": 0.02423,
     "end_time": "2023-01-16T20:33:18.866128",
     "exception": false,
     "start_time": "2023-01-16T20:33:18.841898",
     "status": "completed"
    },
    "tags": []
   },
   "outputs": [
    {
     "name": "stdout",
     "output_type": "stream",
     "text": [
      "You've successfully run some Python code\n",
      "Congratulations!\n",
      "60\n",
      "congratulations congratulations congratulations congratulations congratulations congratulations congratulations congratulations congratulations congratulations congratulations congratulations \n"
     ]
    }
   ],
   "source": [
    "print(\"You've successfully run some Python code\")\n",
    "print(\"Congratulations!\")\n",
    "print(5 * 12)\n",
    "song = \"congratulations \" * 12\n",
    "print (song)"
   ]
  },
  {
   "cell_type": "markdown",
   "id": "20aaa85f",
   "metadata": {
    "papermill": {
     "duration": 0.006516,
     "end_time": "2023-01-16T20:33:18.881003",
     "exception": false,
     "start_time": "2023-01-16T20:33:18.874487",
     "status": "completed"
    },
    "tags": []
   },
   "source": [
    "Try adding another line of code in the cell above and re-running it. \n",
    "\n",
    "Now let's get a little fancier:  Add a new code cell by clicking on an existing code cell, hitting the escape key, and then hitting the `a` or `b` key.  The `a` key will add a cell above the current cell, and `b` adds a cell below.\n",
    "\n",
    "Great! Now you know how to use Notebooks.\n",
    "\n",
    "Each hands-on exercise starts by setting up our feedback and code checking mechanism. Run the code cell below to do that. Then you'll be ready to move on to question 0."
   ]
  },
  {
   "cell_type": "code",
   "execution_count": 2,
   "id": "c1b0aa17",
   "metadata": {
    "_kg_hide-input": true,
    "_kg_hide-output": true,
    "execution": {
     "iopub.execute_input": "2023-01-16T20:33:18.900092Z",
     "iopub.status.busy": "2023-01-16T20:33:18.898663Z",
     "iopub.status.idle": "2023-01-16T20:33:18.950660Z",
     "shell.execute_reply": "2023-01-16T20:33:18.949314Z"
    },
    "papermill": {
     "duration": 0.064912,
     "end_time": "2023-01-16T20:33:18.953774",
     "exception": false,
     "start_time": "2023-01-16T20:33:18.888862",
     "status": "completed"
    },
    "tags": []
   },
   "outputs": [
    {
     "name": "stdout",
     "output_type": "stream",
     "text": [
      "Setup complete! You're ready to start question 0.\n"
     ]
    }
   ],
   "source": [
    "from learntools.core import binder; binder.bind(globals())\n",
    "from learntools.python.ex1 import *\n",
    "print(\"Setup complete! You're ready to start question 0.\")"
   ]
  },
  {
   "cell_type": "markdown",
   "id": "0e5e33a8",
   "metadata": {
    "papermill": {
     "duration": 0.006477,
     "end_time": "2023-01-16T20:33:18.967427",
     "exception": false,
     "start_time": "2023-01-16T20:33:18.960950",
     "status": "completed"
    },
    "tags": []
   },
   "source": [
    "# 0.\n",
    "\n",
    "*This is a silly question intended as an introduction to the format we use for hands-on exercises throughout all Kaggle courses.*\n",
    "\n",
    "**What is your favorite color? **\n",
    "\n",
    "To complete this question, create a variable called `color` in the cell below with an appropriate value. The function call `q0.check()` (which we've already provided in the cell below) will check your answer."
   ]
  },
  {
   "cell_type": "code",
   "execution_count": 3,
   "id": "78fce0ec",
   "metadata": {
    "execution": {
     "iopub.execute_input": "2023-01-16T20:33:18.982957Z",
     "iopub.status.busy": "2023-01-16T20:33:18.982241Z",
     "iopub.status.idle": "2023-01-16T20:33:18.994854Z",
     "shell.execute_reply": "2023-01-16T20:33:18.993537Z"
    },
    "papermill": {
     "duration": 0.023381,
     "end_time": "2023-01-16T20:33:18.997597",
     "exception": false,
     "start_time": "2023-01-16T20:33:18.974216",
     "status": "completed"
    },
    "tags": []
   },
   "outputs": [
    {
     "data": {
      "application/javascript": [
       "parent.postMessage({\"jupyterEvent\": \"custom.exercise_interaction\", \"data\": {\"outcomeType\": 1, \"valueTowardsCompletion\": 0.25, \"interactionType\": 1, \"questionType\": 2, \"questionId\": \"0_ExerciseFormatTutorial\", \"learnToolsVersion\": \"0.3.4\", \"failureMessage\": \"\", \"exceptionClass\": \"\", \"trace\": \"\"}}, \"*\")"
      ],
      "text/plain": [
       "<IPython.core.display.Javascript object>"
      ]
     },
     "metadata": {},
     "output_type": "display_data"
    },
    {
     "data": {
      "text/markdown": [
       "<span style=\"color:#33cc33\">Correct:</span> What?! You got it right without needing a hint or anything? Drats. Well hey, you should still continue to the next step to get some practice asking for a hint and checking solutions. (Even though you obviously don't need any help here.)"
      ],
      "text/plain": [
       "Correct: What?! You got it right without needing a hint or anything? Drats. Well hey, you should still continue to the next step to get some practice asking for a hint and checking solutions. (Even though you obviously don't need any help here.)"
      ]
     },
     "metadata": {},
     "output_type": "display_data"
    }
   ],
   "source": [
    "# create a variable called color with an appropriate value on the line below\n",
    "# (Remember, strings in Python must be enclosed in 'single' or \"double\" quotes)\n",
    "color=\"blue\"\n",
    "# Check your answer\n",
    "q0.check()"
   ]
  },
  {
   "cell_type": "markdown",
   "id": "c616c299",
   "metadata": {
    "papermill": {
     "duration": 0.006726,
     "end_time": "2023-01-16T20:33:19.013268",
     "exception": false,
     "start_time": "2023-01-16T20:33:19.006542",
     "status": "completed"
    },
    "tags": []
   },
   "source": [
    "Didn't get the right answer? How do you not even know your own favorite color?!\n",
    "\n",
    "Delete the `#` in the line below to make one of the lines run. You can choose between getting a hint or the full answer by choosing which line to remove the `#` from. \n",
    "\n",
    "Removing the `#` is called uncommenting, because it changes that line from a \"comment\" which Python doesn't run to code, which Python does run."
   ]
  },
  {
   "cell_type": "code",
   "execution_count": 4,
   "id": "1a593d60",
   "metadata": {
    "execution": {
     "iopub.execute_input": "2023-01-16T20:33:19.029812Z",
     "iopub.status.busy": "2023-01-16T20:33:19.029374Z",
     "iopub.status.idle": "2023-01-16T20:33:19.040559Z",
     "shell.execute_reply": "2023-01-16T20:33:19.039698Z"
    },
    "papermill": {
     "duration": 0.022423,
     "end_time": "2023-01-16T20:33:19.042725",
     "exception": false,
     "start_time": "2023-01-16T20:33:19.020302",
     "status": "completed"
    },
    "tags": []
   },
   "outputs": [
    {
     "data": {
      "application/javascript": [
       "parent.postMessage({\"jupyterEvent\": \"custom.exercise_interaction\", \"data\": {\"interactionType\": 2, \"questionType\": 2, \"questionId\": \"0_ExerciseFormatTutorial\", \"learnToolsVersion\": \"0.3.4\", \"valueTowardsCompletion\": 0.0, \"failureMessage\": \"\", \"exceptionClass\": \"\", \"trace\": \"\", \"outcomeType\": 4}}, \"*\")"
      ],
      "text/plain": [
       "<IPython.core.display.Javascript object>"
      ]
     },
     "metadata": {},
     "output_type": "display_data"
    },
    {
     "data": {
      "text/markdown": [
       "<span style=\"color:#3366cc\">Hint:</span> Your favorite color rhymes with *glue*."
      ],
      "text/plain": [
       "Hint: Your favorite color rhymes with *glue*."
      ]
     },
     "metadata": {},
     "output_type": "display_data"
    },
    {
     "data": {
      "application/javascript": [
       "parent.postMessage({\"jupyterEvent\": \"custom.exercise_interaction\", \"data\": {\"interactionType\": 3, \"questionType\": 2, \"questionId\": \"0_ExerciseFormatTutorial\", \"learnToolsVersion\": \"0.3.4\", \"valueTowardsCompletion\": 0.0, \"failureMessage\": \"\", \"exceptionClass\": \"\", \"trace\": \"\", \"outcomeType\": 4}}, \"*\")"
      ],
      "text/plain": [
       "<IPython.core.display.Javascript object>"
      ]
     },
     "metadata": {},
     "output_type": "display_data"
    },
    {
     "data": {
      "text/markdown": [
       "<span style=\"color:#33cc99\">Solution:</span> \n",
       "```python\n",
       "color = \"blue\"\n",
       "```"
      ],
      "text/plain": [
       "Solution: \n",
       "```python\n",
       "color = \"blue\"\n",
       "```"
      ]
     },
     "metadata": {},
     "output_type": "display_data"
    }
   ],
   "source": [
    "q0.hint()\n",
    "q0.solution()"
   ]
  },
  {
   "cell_type": "markdown",
   "id": "f27c6d5a",
   "metadata": {
    "papermill": {
     "duration": 0.007116,
     "end_time": "2023-01-16T20:33:19.057378",
     "exception": false,
     "start_time": "2023-01-16T20:33:19.050262",
     "status": "completed"
    },
    "tags": []
   },
   "source": [
    "The upcoming questions work the same way. The only thing that will change are the question numbers. For the next question, you'll call `q1.check()`, `q1.hint()`, `q1.solution()`, for question 2, you'll call `q2.check()`, and so on."
   ]
  },
  {
   "cell_type": "markdown",
   "id": "2f8cd894",
   "metadata": {
    "papermill": {
     "duration": 0.006938,
     "end_time": "2023-01-16T20:33:19.071818",
     "exception": false,
     "start_time": "2023-01-16T20:33:19.064880",
     "status": "completed"
    },
    "tags": []
   },
   "source": [
    "<hr/>\n",
    "\n",
    "# 1.\n",
    "\n",
    "Complete the code below. In case it's helpful, here is the table of available arithmetic operations:\n",
    "\n",
    "\n",
    "\n",
    "| Operator     | Name           | Description                                            |\n",
    "|--------------|----------------|--------------------------------------------------------|\n",
    "| ``a + b``    | Addition       | Sum of ``a`` and ``b``                                 |\n",
    "| ``a - b``    | Subtraction    | Difference of ``a`` and ``b``                          |\n",
    "| ``a * b``    | Multiplication | Product of ``a`` and ``b``                             |\n",
    "| ``a / b``    | True division  | Quotient of ``a`` and ``b``                            |\n",
    "| ``a // b``   | Floor division | Quotient of ``a`` and ``b``, removing fractional parts |\n",
    "| ``a % b``    | Modulus        | Integer remainder after division of ``a`` by ``b``     |\n",
    "| ``a ** b``   | Exponentiation | ``a`` raised to the power of ``b``                     |\n",
    "| ``-a``       | Negation       | The negative of ``a``                                  |\n",
    "\n",
    "<span style=\"display:none\"></span>\n"
   ]
  },
  {
   "cell_type": "code",
   "execution_count": 5,
   "id": "350deae5",
   "metadata": {
    "execution": {
     "iopub.execute_input": "2023-01-16T20:33:19.089107Z",
     "iopub.status.busy": "2023-01-16T20:33:19.088668Z",
     "iopub.status.idle": "2023-01-16T20:33:19.097654Z",
     "shell.execute_reply": "2023-01-16T20:33:19.096697Z"
    },
    "papermill": {
     "duration": 0.020205,
     "end_time": "2023-01-16T20:33:19.099754",
     "exception": false,
     "start_time": "2023-01-16T20:33:19.079549",
     "status": "completed"
    },
    "tags": []
   },
   "outputs": [
    {
     "data": {
      "application/javascript": [
       "parent.postMessage({\"jupyterEvent\": \"custom.exercise_interaction\", \"data\": {\"outcomeType\": 1, \"valueTowardsCompletion\": 0.25, \"interactionType\": 1, \"questionType\": 1, \"questionId\": \"1_CircleArea\", \"learnToolsVersion\": \"0.3.4\", \"failureMessage\": \"\", \"exceptionClass\": \"\", \"trace\": \"\"}}, \"*\")"
      ],
      "text/plain": [
       "<IPython.core.display.Javascript object>"
      ]
     },
     "metadata": {},
     "output_type": "display_data"
    },
    {
     "data": {
      "text/markdown": [
       "<span style=\"color:#33cc33\">Correct</span>"
      ],
      "text/plain": [
       "Correct"
      ]
     },
     "metadata": {},
     "output_type": "display_data"
    }
   ],
   "source": [
    "pi = 3.14159 # approximate\n",
    "diameter = 3\n",
    "\n",
    "# Create a variable called 'radius' equal to half the diameter\n",
    "radius = 0.5 * diameter\n",
    "\n",
    "# Create a variable called 'area', using the formula for the area of a circle: pi times the radius squared\n",
    "area = pi * radius ** 2\n",
    "\n",
    "# Check your answer\n",
    "q1.check()"
   ]
  },
  {
   "cell_type": "code",
   "execution_count": 6,
   "id": "4022af08",
   "metadata": {
    "execution": {
     "iopub.execute_input": "2023-01-16T20:33:19.121881Z",
     "iopub.status.busy": "2023-01-16T20:33:19.121181Z",
     "iopub.status.idle": "2023-01-16T20:33:19.127185Z",
     "shell.execute_reply": "2023-01-16T20:33:19.126230Z"
    },
    "papermill": {
     "duration": 0.022137,
     "end_time": "2023-01-16T20:33:19.131890",
     "exception": false,
     "start_time": "2023-01-16T20:33:19.109753",
     "status": "completed"
    },
    "tags": []
   },
   "outputs": [],
   "source": [
    "# Uncomment and run the lines below if you need help.\n",
    "#q1.hint()\n",
    "#q1.solution()"
   ]
  },
  {
   "cell_type": "markdown",
   "id": "479a6e50",
   "metadata": {
    "papermill": {
     "duration": 0.011124,
     "end_time": "2023-01-16T20:33:19.152205",
     "exception": false,
     "start_time": "2023-01-16T20:33:19.141081",
     "status": "completed"
    },
    "tags": []
   },
   "source": [
    "<hr/>\n",
    "\n",
    "# 2.\n",
    "\n",
    "Add code to the following cell to swap variables `a` and `b` (so that `a` refers to the object previously referred to by `b` and vice versa)."
   ]
  },
  {
   "cell_type": "code",
   "execution_count": 7,
   "id": "5405efa2",
   "metadata": {
    "execution": {
     "iopub.execute_input": "2023-01-16T20:33:19.170719Z",
     "iopub.status.busy": "2023-01-16T20:33:19.169783Z",
     "iopub.status.idle": "2023-01-16T20:33:19.182567Z",
     "shell.execute_reply": "2023-01-16T20:33:19.181081Z"
    },
    "papermill": {
     "duration": 0.024829,
     "end_time": "2023-01-16T20:33:19.184970",
     "exception": false,
     "start_time": "2023-01-16T20:33:19.160141",
     "status": "completed"
    },
    "tags": []
   },
   "outputs": [
    {
     "data": {
      "application/javascript": [
       "parent.postMessage({\"jupyterEvent\": \"custom.exercise_interaction\", \"data\": {\"outcomeType\": 1, \"valueTowardsCompletion\": 0.25, \"interactionType\": 1, \"questionType\": 2, \"questionId\": \"2_VariableSwap\", \"learnToolsVersion\": \"0.3.4\", \"failureMessage\": \"\", \"exceptionClass\": \"\", \"trace\": \"\"}}, \"*\")"
      ],
      "text/plain": [
       "<IPython.core.display.Javascript object>"
      ]
     },
     "metadata": {},
     "output_type": "display_data"
    },
    {
     "data": {
      "text/markdown": [
       "<span style=\"color:#33cc33\">Correct:</span> \n",
       "\n",
       "The most straightforward solution is to use a third variable to temporarily store one of the old values. e.g.:\n",
       "\n",
       "    tmp = a\n",
       "    a = b\n",
       "    b = tmp\n",
       "\n",
       "If you've read lots of Python code, you might have seen the following trick to swap two variables in one line:\n",
       "\n",
       "    a, b = b, a\n",
       "\n",
       "We'll demystify this bit of Python magic later when we talk about *tuples*."
      ],
      "text/plain": [
       "Correct: \n",
       "\n",
       "The most straightforward solution is to use a third variable to temporarily store one of the old values. e.g.:\n",
       "\n",
       "    tmp = a\n",
       "    a = b\n",
       "    b = tmp\n",
       "\n",
       "If you've read lots of Python code, you might have seen the following trick to swap two variables in one line:\n",
       "\n",
       "    a, b = b, a\n",
       "\n",
       "We'll demystify this bit of Python magic later when we talk about *tuples*."
      ]
     },
     "metadata": {},
     "output_type": "display_data"
    }
   ],
   "source": [
    "########### Setup code - don't touch this part ######################\n",
    "# If you're curious, these are examples of lists. We'll talk about \n",
    "# them in depth a few lessons from now. For now, just know that they're\n",
    "# yet another type of Python object, like int or float.\n",
    "a = [1, 2, 3]\n",
    "b = [3, 2, 1]\n",
    "q2.store_original_ids()\n",
    "######################################################################\n",
    "\n",
    "# Your code goes here. Swap the values to which a and b refer.\n",
    "# If you get stuck, you can always uncomment one or both of the lines in\n",
    "# the next cell for a hint, or to peek at the solution.\n",
    "c = a\n",
    "a = b\n",
    "b = c\n",
    "######################################################################\n",
    "\n",
    "# Check your answer\n",
    "q2.check()"
   ]
  },
  {
   "cell_type": "code",
   "execution_count": 8,
   "id": "3be3dec3",
   "metadata": {
    "execution": {
     "iopub.execute_input": "2023-01-16T20:33:19.203296Z",
     "iopub.status.busy": "2023-01-16T20:33:19.202357Z",
     "iopub.status.idle": "2023-01-16T20:33:19.208299Z",
     "shell.execute_reply": "2023-01-16T20:33:19.207203Z"
    },
    "papermill": {
     "duration": 0.017974,
     "end_time": "2023-01-16T20:33:19.210947",
     "exception": false,
     "start_time": "2023-01-16T20:33:19.192973",
     "status": "completed"
    },
    "tags": []
   },
   "outputs": [],
   "source": [
    "#q2.hint()"
   ]
  },
  {
   "cell_type": "code",
   "execution_count": 9,
   "id": "698c6283",
   "metadata": {
    "execution": {
     "iopub.execute_input": "2023-01-16T20:33:19.229715Z",
     "iopub.status.busy": "2023-01-16T20:33:19.228960Z",
     "iopub.status.idle": "2023-01-16T20:33:19.235421Z",
     "shell.execute_reply": "2023-01-16T20:33:19.233817Z"
    },
    "papermill": {
     "duration": 0.018899,
     "end_time": "2023-01-16T20:33:19.237931",
     "exception": false,
     "start_time": "2023-01-16T20:33:19.219032",
     "status": "completed"
    },
    "tags": []
   },
   "outputs": [],
   "source": [
    "#q2.solution()"
   ]
  },
  {
   "cell_type": "markdown",
   "id": "bbb47581",
   "metadata": {
    "papermill": {
     "duration": 0.007759,
     "end_time": "2023-01-16T20:33:19.253981",
     "exception": false,
     "start_time": "2023-01-16T20:33:19.246222",
     "status": "completed"
    },
    "tags": []
   },
   "source": [
    "<hr/>\n",
    "\n",
    "# 3a.\n",
    "\n",
    "Add parentheses to the following expression so that it evaluates to 1."
   ]
  },
  {
   "cell_type": "code",
   "execution_count": 10,
   "id": "c56f537b",
   "metadata": {
    "execution": {
     "iopub.execute_input": "2023-01-16T20:33:19.272326Z",
     "iopub.status.busy": "2023-01-16T20:33:19.271623Z",
     "iopub.status.idle": "2023-01-16T20:33:19.279124Z",
     "shell.execute_reply": "2023-01-16T20:33:19.277969Z"
    },
    "papermill": {
     "duration": 0.019484,
     "end_time": "2023-01-16T20:33:19.281403",
     "exception": false,
     "start_time": "2023-01-16T20:33:19.261919",
     "status": "completed"
    },
    "tags": []
   },
   "outputs": [
    {
     "data": {
      "text/plain": [
       "1"
      ]
     },
     "execution_count": 10,
     "metadata": {},
     "output_type": "execute_result"
    }
   ],
   "source": [
    "(5 - 3) // 2"
   ]
  },
  {
   "cell_type": "code",
   "execution_count": 11,
   "id": "25246680",
   "metadata": {
    "execution": {
     "iopub.execute_input": "2023-01-16T20:33:19.300057Z",
     "iopub.status.busy": "2023-01-16T20:33:19.299384Z",
     "iopub.status.idle": "2023-01-16T20:33:19.307744Z",
     "shell.execute_reply": "2023-01-16T20:33:19.306878Z"
    },
    "papermill": {
     "duration": 0.020049,
     "end_time": "2023-01-16T20:33:19.309955",
     "exception": false,
     "start_time": "2023-01-16T20:33:19.289906",
     "status": "completed"
    },
    "tags": []
   },
   "outputs": [
    {
     "data": {
      "application/javascript": [
       "parent.postMessage({\"jupyterEvent\": \"custom.exercise_interaction\", \"data\": {\"interactionType\": 2, \"questionType\": 4, \"questionId\": \"3.1_ArithmeticParensEasy\", \"learnToolsVersion\": \"0.3.4\", \"valueTowardsCompletion\": 0.0, \"failureMessage\": \"\", \"exceptionClass\": \"\", \"trace\": \"\", \"outcomeType\": 4}}, \"*\")"
      ],
      "text/plain": [
       "<IPython.core.display.Javascript object>"
      ]
     },
     "metadata": {},
     "output_type": "display_data"
    },
    {
     "data": {
      "text/markdown": [
       "<span style=\"color:#3366cc\">Hint:</span> Following its default \"BEDMAS\"-like rules for order of operations, Python will first divide 3 by 2, then subtract the result from 5. You need to add parentheses to force it to perform the subtraction first."
      ],
      "text/plain": [
       "Hint: Following its default \"BEDMAS\"-like rules for order of operations, Python will first divide 3 by 2, then subtract the result from 5. You need to add parentheses to force it to perform the subtraction first."
      ]
     },
     "metadata": {},
     "output_type": "display_data"
    }
   ],
   "source": [
    "q3.a.hint()"
   ]
  },
  {
   "cell_type": "code",
   "execution_count": 12,
   "id": "0656f0be",
   "metadata": {
    "execution": {
     "iopub.execute_input": "2023-01-16T20:33:19.329584Z",
     "iopub.status.busy": "2023-01-16T20:33:19.328878Z",
     "iopub.status.idle": "2023-01-16T20:33:19.338289Z",
     "shell.execute_reply": "2023-01-16T20:33:19.337313Z"
    },
    "papermill": {
     "duration": 0.021908,
     "end_time": "2023-01-16T20:33:19.340791",
     "exception": false,
     "start_time": "2023-01-16T20:33:19.318883",
     "status": "completed"
    },
    "tags": []
   },
   "outputs": [
    {
     "data": {
      "application/javascript": [
       "parent.postMessage({\"jupyterEvent\": \"custom.exercise_interaction\", \"data\": {\"interactionType\": 3, \"questionType\": 4, \"questionId\": \"3.1_ArithmeticParensEasy\", \"learnToolsVersion\": \"0.3.4\", \"valueTowardsCompletion\": 0.0, \"failureMessage\": \"\", \"exceptionClass\": \"\", \"trace\": \"\", \"outcomeType\": 4}}, \"*\")"
      ],
      "text/plain": [
       "<IPython.core.display.Javascript object>"
      ]
     },
     "metadata": {},
     "output_type": "display_data"
    },
    {
     "data": {
      "text/markdown": [
       "<span style=\"color:#33cc99\">Solution:</span> \n",
       "```python\n",
       "(5 - 3) // 2\n",
       "```"
      ],
      "text/plain": [
       "Solution: \n",
       "```python\n",
       "(5 - 3) // 2\n",
       "```"
      ]
     },
     "metadata": {},
     "output_type": "display_data"
    }
   ],
   "source": [
    "# Check your answer (Run this code cell to receive credit!)\n",
    "q3.a.solution()"
   ]
  },
  {
   "cell_type": "markdown",
   "id": "b2c7545d",
   "metadata": {
    "papermill": {
     "duration": 0.008482,
     "end_time": "2023-01-16T20:33:19.357903",
     "exception": false,
     "start_time": "2023-01-16T20:33:19.349421",
     "status": "completed"
    },
    "tags": []
   },
   "source": [
    "# 3b.  <span title=\"A bit spicy\" style=\"color: darkgreen \">🌶️</span>\n",
    "\n",
    "<small>Questions, like this one, marked a spicy pepper are a bit harder.</small>\n",
    "\n",
    "Add parentheses to the following expression so that it evaluates to 0."
   ]
  },
  {
   "cell_type": "code",
   "execution_count": 13,
   "id": "c1a5f693",
   "metadata": {
    "execution": {
     "iopub.execute_input": "2023-01-16T20:33:19.384204Z",
     "iopub.status.busy": "2023-01-16T20:33:19.383777Z",
     "iopub.status.idle": "2023-01-16T20:33:19.389915Z",
     "shell.execute_reply": "2023-01-16T20:33:19.388849Z"
    },
    "papermill": {
     "duration": 0.024046,
     "end_time": "2023-01-16T20:33:19.393519",
     "exception": false,
     "start_time": "2023-01-16T20:33:19.369473",
     "status": "completed"
    },
    "tags": []
   },
   "outputs": [
    {
     "data": {
      "text/plain": [
       "0"
      ]
     },
     "execution_count": 13,
     "metadata": {},
     "output_type": "execute_result"
    }
   ],
   "source": [
    "8 - (3 * 2) - (1 + 1)"
   ]
  },
  {
   "cell_type": "code",
   "execution_count": 14,
   "id": "c27034da",
   "metadata": {
    "execution": {
     "iopub.execute_input": "2023-01-16T20:33:19.417622Z",
     "iopub.status.busy": "2023-01-16T20:33:19.416655Z",
     "iopub.status.idle": "2023-01-16T20:33:19.421826Z",
     "shell.execute_reply": "2023-01-16T20:33:19.420751Z"
    },
    "papermill": {
     "duration": 0.018294,
     "end_time": "2023-01-16T20:33:19.424179",
     "exception": false,
     "start_time": "2023-01-16T20:33:19.405885",
     "status": "completed"
    },
    "tags": []
   },
   "outputs": [],
   "source": [
    "#q3.b.hint()"
   ]
  },
  {
   "cell_type": "code",
   "execution_count": 15,
   "id": "8d657391",
   "metadata": {
    "execution": {
     "iopub.execute_input": "2023-01-16T20:33:19.444722Z",
     "iopub.status.busy": "2023-01-16T20:33:19.444099Z",
     "iopub.status.idle": "2023-01-16T20:33:19.454841Z",
     "shell.execute_reply": "2023-01-16T20:33:19.453532Z"
    },
    "papermill": {
     "duration": 0.02458,
     "end_time": "2023-01-16T20:33:19.457628",
     "exception": false,
     "start_time": "2023-01-16T20:33:19.433048",
     "status": "completed"
    },
    "tags": []
   },
   "outputs": [
    {
     "data": {
      "application/javascript": [
       "parent.postMessage({\"jupyterEvent\": \"custom.exercise_interaction\", \"data\": {\"interactionType\": 3, \"questionType\": 4, \"questionId\": \"3.2_ArithmeticParensHard\", \"learnToolsVersion\": \"0.3.4\", \"valueTowardsCompletion\": 0.0, \"failureMessage\": \"\", \"exceptionClass\": \"\", \"trace\": \"\", \"outcomeType\": 4}}, \"*\")"
      ],
      "text/plain": [
       "<IPython.core.display.Javascript object>"
      ]
     },
     "metadata": {},
     "output_type": "display_data"
    },
    {
     "data": {
      "text/markdown": [
       "<span style=\"color:#33cc99\">Solution:</span> `(8 - 3) * (2 - (1 + 1))` is one solution. There may be others."
      ],
      "text/plain": [
       "Solution: `(8 - 3) * (2 - (1 + 1))` is one solution. There may be others."
      ]
     },
     "metadata": {},
     "output_type": "display_data"
    }
   ],
   "source": [
    "# Check your answer (Run this code cell to receive credit!)\n",
    "q3.b.solution()"
   ]
  },
  {
   "cell_type": "markdown",
   "id": "2143f0c7",
   "metadata": {
    "papermill": {
     "duration": 0.009238,
     "end_time": "2023-01-16T20:33:19.477576",
     "exception": false,
     "start_time": "2023-01-16T20:33:19.468338",
     "status": "completed"
    },
    "tags": []
   },
   "source": [
    "<hr/>\n",
    "\n",
    "# 4. \n",
    "Alice, Bob and Carol have agreed to pool their Halloween candy and split it evenly among themselves.\n",
    "For the sake of their friendship, any candies left over will be smashed. For example, if they collectively\n",
    "bring home 91 candies, they'll take 30 each and smash 1.\n",
    "\n",
    "Write an arithmetic expression below to calculate how many candies they must smash for a given haul."
   ]
  },
  {
   "cell_type": "code",
   "execution_count": 16,
   "id": "8b0a28fd",
   "metadata": {
    "execution": {
     "iopub.execute_input": "2023-01-16T20:33:19.498291Z",
     "iopub.status.busy": "2023-01-16T20:33:19.497890Z",
     "iopub.status.idle": "2023-01-16T20:33:19.508630Z",
     "shell.execute_reply": "2023-01-16T20:33:19.507341Z"
    },
    "papermill": {
     "duration": 0.024284,
     "end_time": "2023-01-16T20:33:19.511346",
     "exception": false,
     "start_time": "2023-01-16T20:33:19.487062",
     "status": "completed"
    },
    "tags": []
   },
   "outputs": [
    {
     "data": {
      "application/javascript": [
       "parent.postMessage({\"jupyterEvent\": \"custom.exercise_interaction\", \"data\": {\"outcomeType\": 1, \"valueTowardsCompletion\": 0.25, \"interactionType\": 1, \"questionType\": 1, \"questionId\": \"4_CandySplitting\", \"learnToolsVersion\": \"0.3.4\", \"failureMessage\": \"\", \"exceptionClass\": \"\", \"trace\": \"\"}}, \"*\")"
      ],
      "text/plain": [
       "<IPython.core.display.Javascript object>"
      ]
     },
     "metadata": {},
     "output_type": "display_data"
    },
    {
     "data": {
      "text/markdown": [
       "<span style=\"color:#33cc33\">Correct</span>"
      ],
      "text/plain": [
       "Correct"
      ]
     },
     "metadata": {},
     "output_type": "display_data"
    }
   ],
   "source": [
    "# Variables representing the number of candies collected by alice, bob, and carol\n",
    "alice_candies = 121\n",
    "bob_candies = 77\n",
    "carol_candies = 109\n",
    "\n",
    "# Your code goes here! Replace the right-hand side of this assignment with an expression\n",
    "# involving alice_candies, bob_candies, and carol_candies\n",
    "to_smash = (alice_candies + bob_candies + carol_candies) % 3\n",
    "\n",
    "# Check your answer\n",
    "q4.check()"
   ]
  },
  {
   "cell_type": "code",
   "execution_count": 17,
   "id": "87eda921",
   "metadata": {
    "execution": {
     "iopub.execute_input": "2023-01-16T20:33:19.533176Z",
     "iopub.status.busy": "2023-01-16T20:33:19.532348Z",
     "iopub.status.idle": "2023-01-16T20:33:19.542114Z",
     "shell.execute_reply": "2023-01-16T20:33:19.540644Z"
    },
    "papermill": {
     "duration": 0.023571,
     "end_time": "2023-01-16T20:33:19.544663",
     "exception": false,
     "start_time": "2023-01-16T20:33:19.521092",
     "status": "completed"
    },
    "tags": []
   },
   "outputs": [
    {
     "data": {
      "application/javascript": [
       "parent.postMessage({\"jupyterEvent\": \"custom.exercise_interaction\", \"data\": {\"interactionType\": 2, \"questionType\": 1, \"questionId\": \"4_CandySplitting\", \"learnToolsVersion\": \"0.3.4\", \"valueTowardsCompletion\": 0.0, \"failureMessage\": \"\", \"exceptionClass\": \"\", \"trace\": \"\", \"outcomeType\": 4}}, \"*\")"
      ],
      "text/plain": [
       "<IPython.core.display.Javascript object>"
      ]
     },
     "metadata": {},
     "output_type": "display_data"
    },
    {
     "data": {
      "text/markdown": [
       "<span style=\"color:#3366cc\">Hint 1:</span> You'll probably want to use the modulo operator, `%`.\n",
       "(For another hint, call `.hint(2)`)"
      ],
      "text/plain": [
       "Hint 1: You'll probably want to use the modulo operator, `%`.\n",
       "(For another hint, call `.hint(2)`)"
      ]
     },
     "metadata": {},
     "output_type": "display_data"
    }
   ],
   "source": [
    "q4.hint()\n",
    "#q4.solution()"
   ]
  },
  {
   "cell_type": "markdown",
   "id": "f355e7e3",
   "metadata": {
    "papermill": {
     "duration": 0.009532,
     "end_time": "2023-01-16T20:33:19.564515",
     "exception": false,
     "start_time": "2023-01-16T20:33:19.554983",
     "status": "completed"
    },
    "tags": []
   },
   "source": [
    "# Keep Going\n",
    "\n",
    "Next up, you'll **[learn to write new functions and understand functions others write](https://www.kaggle.com/colinmorris/functions-and-getting-help)**. This will make you at least 10 times more productive as a Python programmer. "
   ]
  },
  {
   "cell_type": "markdown",
   "id": "e2dcb0c8",
   "metadata": {
    "papermill": {
     "duration": 0.009389,
     "end_time": "2023-01-16T20:33:19.583744",
     "exception": false,
     "start_time": "2023-01-16T20:33:19.574355",
     "status": "completed"
    },
    "tags": []
   },
   "source": [
    "---\n",
    "\n",
    "\n",
    "\n",
    "\n",
    "*Have questions or comments? Visit the [course discussion forum](https://www.kaggle.com/learn/python/discussion) to chat with other learners.*"
   ]
  }
 ],
 "metadata": {
  "kernelspec": {
   "display_name": "Python 3",
   "language": "python",
   "name": "python3"
  },
  "language_info": {
   "codemirror_mode": {
    "name": "ipython",
    "version": 3
   },
   "file_extension": ".py",
   "mimetype": "text/x-python",
   "name": "python",
   "nbconvert_exporter": "python",
   "pygments_lexer": "ipython3",
   "version": "3.7.12"
  },
  "papermill": {
   "default_parameters": {},
   "duration": 10.354936,
   "end_time": "2023-01-16T20:33:20.214935",
   "environment_variables": {},
   "exception": null,
   "input_path": "__notebook__.ipynb",
   "output_path": "__notebook__.ipynb",
   "parameters": {},
   "start_time": "2023-01-16T20:33:09.859999",
   "version": "2.3.4"
  }
 },
 "nbformat": 4,
 "nbformat_minor": 5
}
